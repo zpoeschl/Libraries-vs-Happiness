{
 "cells": [
  {
   "cell_type": "code",
   "execution_count": null,
   "metadata": {},
   "outputs": [],
   "source": [
    "from IPython import display \n",
    "import pandas as pd\n",
    "import gmaps\n",
    "\n",
    "from api_key import gkey"
   ]
  },
  {
   "cell_type": "markdown",
   "metadata": {},
   "source": [
    "#### Hello Pam!"
   ]
  },
  {
   "cell_type": "markdown",
   "metadata": {},
   "source": [
    "# Libraries + Happiness\n",
    "Mallory Anderson, Ellie Bunz, Pam Meyer, & Zoe Poeschl\n",
    "\n",
    "### Define the core message or hypothesis of your project.\n",
    "- Are there more libraries in happier countries?\n",
    "- Does usage of libraries correlate with happiness rankings? How strong is the correlation? \n",
    "\n",
    "### Describe the questions you asked, and why you asked them\n",
    "- What are some of the happiest countries? \n",
    "- What % of libraries are public? \n",
    "- Are there more libraries in happier countries?\n",
    "- Does visiting libraries make a happier country? \n",
    "- Do the amount of libraries make a happier country? "
   ]
  },
  {
   "cell_type": "markdown",
   "metadata": {},
   "source": [
    "# Data\n",
    "To answer the questions we pulled from a library data database, a happiness data database, and a population database, and pulled capitals lat and lng. These were downloaded to csv and imported. \n",
    "\n",
    "## Cleanup and Exploration\n",
    "After cleaning data and removing NaN we have fewer countries than anticipated for the analysis. In addition, we realized that it would be best to normalize the data. "
   ]
  },
  {
   "cell_type": "code",
   "execution_count": null,
   "metadata": {},
   "outputs": [],
   "source": [
    "#read csv to make maps\n",
    "csv_path_map = \"Resources/map_data.csv\"\n",
    "csv_path_library_count = \"Resources/library_count.csv\"\n",
    "csv_path_visit_count = \"Resources/visits_count.csv\"\n",
    "\n",
    "map_df = pd.read_csv(csv_path_map)\n",
    "lib_amt_df = pd.read_csv(csv_path_library_count)\n",
    "visits_df = pd.read_csv(csv_path_visit_count)"
   ]
  },
  {
   "cell_type": "code",
   "execution_count": null,
   "metadata": {},
   "outputs": [],
   "source": [
    "map_df.head()"
   ]
  },
  {
   "cell_type": "code",
   "execution_count": null,
   "metadata": {},
   "outputs": [],
   "source": [
    "lib_amt_df.head()"
   ]
  },
  {
   "cell_type": "code",
   "execution_count": null,
   "metadata": {},
   "outputs": [],
   "source": [
    "visits_df.head()"
   ]
  },
  {
   "cell_type": "markdown",
   "metadata": {},
   "source": [
    "#### Hi Ellie!"
   ]
  },
  {
   "cell_type": "markdown",
   "metadata": {},
   "source": [
    "## Question: What percent of libraries are public?"
   ]
  },
  {
   "cell_type": "markdown",
   "metadata": {},
   "source": [
    "### Library visits per library type"
   ]
  },
  {
   "cell_type": "code",
   "execution_count": null,
   "metadata": {},
   "outputs": [],
   "source": [
    "display.Image(\"./images/VisitsPerLibraryType.png\")"
   ]
  },
  {
   "cell_type": "markdown",
   "metadata": {},
   "source": [
    "### Amount of libraries per library type"
   ]
  },
  {
   "cell_type": "code",
   "execution_count": null,
   "metadata": {},
   "outputs": [],
   "source": [
    "display.Image(\"./images/AmountOfLibrariesPerLibraryType.png\")"
   ]
  },
  {
   "cell_type": "markdown",
   "metadata": {},
   "source": [
    "## Question: What are some of the happiest countries?"
   ]
  },
  {
   "cell_type": "markdown",
   "metadata": {},
   "source": [
    "### Top 20 happiest countries"
   ]
  },
  {
   "cell_type": "code",
   "execution_count": null,
   "metadata": {},
   "outputs": [],
   "source": [
    "display.Image(\"./images/happiest_countries.png\")"
   ]
  },
  {
   "cell_type": "markdown",
   "metadata": {},
   "source": [
    "### Top 20 happiest countries with library usage data"
   ]
  },
  {
   "cell_type": "code",
   "execution_count": null,
   "metadata": {},
   "outputs": [],
   "source": [
    "display.Image(\"./images/happiest_library_countries.png\")"
   ]
  },
  {
   "cell_type": "markdown",
   "metadata": {},
   "source": [
    "### Heatmap of overall happiness"
   ]
  },
  {
   "cell_type": "code",
   "execution_count": null,
   "metadata": {},
   "outputs": [],
   "source": [
    "# Configure maps\n",
    "gmaps.configure(api_key=gkey)\n",
    "\n",
    "fig1 = gmaps.figure(center=(20,5), zoom_level=2)\n",
    "\n",
    "# Store lat and lng in list\n",
    "locations = map_df[[\"CapitalLatitude\",\"CapitalLongitude\"]]\n",
    "\n",
    "# Store happiness to set weight\n",
    "happiness = map_df[\"Happiness.Score\"]\n",
    "\n",
    "# Create heat layer\n",
    "heat_layer = gmaps.heatmap_layer(locations, weights=happiness, dissipating=False, max_intensity=7.6, point_radius=3.5)\n",
    "\n",
    "\n",
    "# Add heat layer\n",
    "fig1.add_layer(heat_layer)\n",
    "fig1"
   ]
  },
  {
   "cell_type": "markdown",
   "metadata": {},
   "source": [
    "#### Hi Zoe!"
   ]
  },
  {
   "cell_type": "markdown",
   "metadata": {},
   "source": [
    "## Data Analysis\n",
    "Discuss the steps you took to analyze the data. "
   ]
  },
  {
   "cell_type": "markdown",
   "metadata": {},
   "source": [
    "## Question: Are there more libraries in happier countries? "
   ]
  },
  {
   "cell_type": "markdown",
   "metadata": {},
   "source": [
    "### Libraries per country"
   ]
  },
  {
   "cell_type": "code",
   "execution_count": null,
   "metadata": {},
   "outputs": [],
   "source": [
    "display.Image(\"./images/libraries_per_country_bar.png\")"
   ]
  },
  {
   "cell_type": "markdown",
   "metadata": {},
   "source": [
    "### Libraries per capita"
   ]
  },
  {
   "cell_type": "code",
   "execution_count": null,
   "metadata": {},
   "outputs": [],
   "source": [
    "#Add markers for number of libraries per capita\n",
    "lib_locations = lib_amt_df[[\"CapitalLatitude\",\"CapitalLongitude\"]].astype(float)\n",
    "\n",
    "lib_amt_df[\"Lib Per 100000\"] = lib_amt_df[\"Libraries Per Capita\"]*100000\n",
    "lib_amt_df[\"Lib Per 100000\"] = lib_amt_df[\"Lib Per 100000\"].round(2)\n",
    "\n",
    "lib_amt_df = lib_amt_df.rename(columns={\"Happiness.Rank\": \"HappinessRank\", \n",
    "                          \"Happiness.Score\":\"HappinessScore\"})\n",
    "\n",
    "lib_amt_df[\"HappinessRank\"] = lib_amt_df[\"HappinessRank\"].astype(int)\n"
   ]
  },
  {
   "cell_type": "code",
   "execution_count": null,
   "metadata": {},
   "outputs": [],
   "source": [
    "info_box_template = \"\"\"\n",
    "<dl>\n",
    "<dt>Country</dt><dd>{Country}</dd>\n",
    "<dt>Happiness Rank</dt><dd>{HappinessRank}</dd>\n",
    "<dt>Libraries Per 100000 People</dt><dd>{Lib Per 100000}</dd>\n",
    "</dl>\n",
    "\"\"\"\n",
    "\n",
    "#<dt>Happiness Rank</dt><dd>{Happiness.Rank}</dd>\n",
    "# Store the DataFrame Row\n",
    "# NOTE: be sure to update with your DataFrame name\n",
    "library_info = [info_box_template.format(**row) for index, row in lib_amt_df.iterrows()]"
   ]
  },
  {
   "cell_type": "code",
   "execution_count": null,
   "metadata": {},
   "outputs": [],
   "source": [
    "fig3 = gmaps.figure(center=(20,30), zoom_level=2)\n",
    "\n",
    "#Create symbol layer\n",
    "libraries_layer = gmaps.marker_layer(\n",
    "    lib_locations, info_box_content=library_info)\n",
    "\n",
    "fig3.add_layer(heat_layer)\n",
    "fig3.add_layer(libraries_layer)\n",
    "\n",
    "fig3"
   ]
  },
  {
   "cell_type": "markdown",
   "metadata": {},
   "source": [
    "## Question: Does library use make a happier country?"
   ]
  },
  {
   "cell_type": "markdown",
   "metadata": {},
   "source": [
    "### Number of physical loans versus country happiness scores"
   ]
  },
  {
   "cell_type": "code",
   "execution_count": null,
   "metadata": {},
   "outputs": [],
   "source": [
    "display.Image(\"./images/physicalloans_v_happiness.png\")"
   ]
  },
  {
   "cell_type": "markdown",
   "metadata": {},
   "source": [
    "### Number of library visits versus country happiness score"
   ]
  },
  {
   "cell_type": "code",
   "execution_count": null,
   "metadata": {},
   "outputs": [],
   "source": [
    "display.Image(\"./images/physicalvisits_v_happiness.png\")"
   ]
  },
  {
   "cell_type": "markdown",
   "metadata": {},
   "source": [
    "### Count of library visits"
   ]
  },
  {
   "cell_type": "code",
   "execution_count": null,
   "metadata": {},
   "outputs": [],
   "source": [
    "# Add markers for visits \n",
    "visit_locations = visits_df[[\"CapitalLatitude\",\"CapitalLongitude\"]].astype(float)\n",
    "visits = visits_df[\"Visits\"].tolist()\n",
    "\n",
    "fig2 = gmaps.figure(center=(20,5), zoom_level=2)\n",
    "\n",
    "#Create symbol layer\n",
    "visits_layer = gmaps.symbol_layer(\n",
    "    visit_locations, fill_color='blue',\n",
    "    stroke_color='rgba(0, 0, 150, 0)', scale=5,\n",
    "    info_box_content=[f\"Visit count: {visit}\" for visit in visits]\n",
    ")\n",
    "\n",
    "fig2.add_layer(heat_layer)\n",
    "fig2.add_layer(visits_layer)\n",
    "\n",
    "fig2"
   ]
  },
  {
   "cell_type": "markdown",
   "metadata": {},
   "source": [
    "### Library visits per country"
   ]
  },
  {
   "cell_type": "code",
   "execution_count": null,
   "metadata": {},
   "outputs": [],
   "source": [
    "display.Image(\"./images/visits_per_country.png\")"
   ]
  },
  {
   "cell_type": "markdown",
   "metadata": {},
   "source": [
    "#### Hi Mallory!"
   ]
  },
  {
   "cell_type": "markdown",
   "metadata": {},
   "source": [
    "## Question: Does checking out materials from libraries make a happier country?"
   ]
  },
  {
   "cell_type": "code",
   "execution_count": null,
   "metadata": {},
   "outputs": [],
   "source": [
    "display.Image(\"./images/physicalloans_v_happiness_regress.png\")"
   ]
  },
  {
   "cell_type": "markdown",
   "metadata": {},
   "source": [
    "The r-value for this graph is -0.295. This graph tells us that there is a weak correlation between number of physical loans per capita and happiness score. "
   ]
  },
  {
   "cell_type": "markdown",
   "metadata": {},
   "source": [
    "## Question: Does visiting libraries make a happier country?"
   ]
  },
  {
   "cell_type": "code",
   "execution_count": null,
   "metadata": {},
   "outputs": [],
   "source": [
    "display.Image(\"./images/physicalvisits_v_happiness_regress.png\")"
   ]
  },
  {
   "cell_type": "markdown",
   "metadata": {},
   "source": [
    "The r-value for this graph is 0.39. This graph tells us that there is a weak correlation between number of library visits per capita and happiness score. "
   ]
  },
  {
   "cell_type": "markdown",
   "metadata": {},
   "source": [
    "# Summary\n",
    "Describe whether you were able to answer these questions and our findings.\n",
    "\n",
    "# Post Mortem\n",
    "Difficulties that arose, and how you dealt with them. \n",
    "Additional questions that came up, but we didn't have time to answer."
   ]
  },
  {
   "cell_type": "markdown",
   "metadata": {},
   "source": [
    "## Hypothesis\n",
    "\n",
    "We have two hypotehses -- one about vistiaton and one about count. \n",
    "Rank based on visitaiton, divide in thirds, pass in happiness scores for top third and bottom third and see if they're statistically different. We could do a second test with visitiation rates. \n",
    "\n",
    "We could come up with a compound score -- library count * visitation -- results in combining these two and giving us a library \"score\". \n",
    "\n",
    "### Hypothesis\n",
    "If libraries make people happy, then countries with more libraries and higher visitation rates of those libraries will have higher happiness scores.\n",
    "\n",
    "### Null Hypothesis\n",
    "If libraries do not generate happiness then there will library count and library visits will have no impact on happiness scores.\n",
    "\n",
    "### Findings\n",
    "The p-value for number of libraries versus happiness scores was ...\n",
    "The p-value for number of visits to libraries versus happiness scores was...\n",
    "\n",
    "A p-value less than 0.05 means we must reject our null hypothesis. If it is greater we fail to reject our null hypothesis.\n",
    "\n",
    "ANOVA extends the t-test to multiple categories. "
   ]
  }
 ],
 "metadata": {
  "kernelspec": {
   "display_name": "Python 3",
   "language": "python",
   "name": "python3"
  },
  "language_info": {
   "codemirror_mode": {
    "name": "ipython",
    "version": 3
   },
   "file_extension": ".py",
   "mimetype": "text/x-python",
   "name": "python",
   "nbconvert_exporter": "python",
   "pygments_lexer": "ipython3",
   "version": "3.6.10"
  }
 },
 "nbformat": 4,
 "nbformat_minor": 4
}
