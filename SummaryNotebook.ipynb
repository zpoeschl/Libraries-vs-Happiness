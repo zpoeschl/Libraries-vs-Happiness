{
 "cells": [
  {
   "cell_type": "code",
   "execution_count": null,
   "metadata": {},
   "outputs": [],
   "source": [
    "# ELLIE - start"
   ]
  },
  {
   "cell_type": "code",
   "execution_count": null,
   "metadata": {},
   "outputs": [],
   "source": []
  },
  {
   "cell_type": "code",
   "execution_count": null,
   "metadata": {},
   "outputs": [],
   "source": [
    "# ELLIE - end"
   ]
  },
  {
   "cell_type": "code",
   "execution_count": null,
   "metadata": {},
   "outputs": [],
   "source": [
    "# MALLORY - start"
   ]
  },
  {
   "cell_type": "markdown",
   "metadata": {},
   "source": [
    "## Hypothesis\n",
    "\n",
    "We have two hypotehses -- one about vistiaton and one about count. \n",
    "Rank based on visitaiton, divide in thirds, pass in happiness scores for top third and bottom third and see if they're statistically different. We could do a second test with visitiation rates. \n",
    "\n",
    "We could come up with a compound score -- library count * visitation -- results in combining these two and giving us a library \"score\". \n",
    "\n",
    "### Hypothesis\n",
    "If libraries make people happy, then countries with more libraries and higher visitation rates of those libraries will have higher happiness scores.\n",
    "\n",
    "### Null Hypothesis\n",
    "If libraries do not generate happiness then there will library count and library visits will have no impact on happiness scores.\n",
    "\n",
    "### Findings\n",
    "The p-value for number of libraries versus happiness scores was ...\n",
    "The p-value for number of visits to libraries versus happiness scores was...\n",
    "\n",
    "A p-value less than 0.05 means we must reject our null hypothesis. If it is greater we fail to reject our null hypothesis.\n",
    "\n",
    "ANOVA extends the t-test to multiple categories. "
   ]
  },
  {
   "cell_type": "code",
   "execution_count": null,
   "metadata": {},
   "outputs": [],
   "source": [
    "# MALLORY - end"
   ]
  }
 ],
 "metadata": {
  "kernelspec": {
   "display_name": "Python 3",
   "language": "python",
   "name": "python3"
  },
  "language_info": {
   "codemirror_mode": {
    "name": "ipython",
    "version": 3
   },
   "file_extension": ".py",
   "mimetype": "text/x-python",
   "name": "python",
   "nbconvert_exporter": "python",
   "pygments_lexer": "ipython3",
   "version": "3.6.10"
  }
 },
 "nbformat": 4,
 "nbformat_minor": 4
}
