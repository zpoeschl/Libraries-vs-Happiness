{
 "cells": [
  {
   "cell_type": "code",
   "execution_count": null,
   "metadata": {},
   "outputs": [],
   "source": [
    "import pandas as pd\n",
    "import matplotlib.pyplot as plt\n",
    "import numpy as np\n",
    "import requests\n",
    "import time\n",
    "from scipy.stats import linregress\n",
    "import gmaps\n",
    "import os\n",
    "\n",
    "# Import API key *************NEED TO DO*************\n",
    "from api_key import gkey"
   ]
  },
  {
   "cell_type": "code",
   "execution_count": null,
   "metadata": {},
   "outputs": [],
   "source": [
    "csv_path_happiness = \"Resources/2017_happiness.csv\"\n",
    "csv_path_libraries = \"Resources/lmw_data_09_Feb_2021.csv\"\n",
    "csv_path_population = \"Resources/API_SP.POP.TOTL_DS2_en_csv_v2_2017895.csv\"\n",
    "csv_path_capitals = \"Resources/concap.csv\"\n",
    "\n",
    "happiness_df = pd.read_csv(csv_path_happiness)\n",
    "libraries_df = pd.read_csv(csv_path_libraries, encoding='latin-1')\n",
    "population_df= pd.read_csv(csv_path_population)\n",
    "capitals_df = pd.read_csv(csv_path_capitals)"
   ]
  },
  {
   "cell_type": "code",
   "execution_count": null,
   "metadata": {},
   "outputs": [],
   "source": [
    "# Limit capitals info\n",
    "capitals_df = capitals_df.loc[:,[\"CountryName\", \"CapitalLatitude\", \"CapitalLongitude\"]]\n",
    "\n",
    "capitals_df"
   ]
  },
  {
   "cell_type": "code",
   "execution_count": null,
   "metadata": {
    "scrolled": true
   },
   "outputs": [],
   "source": [
    "# Limit happiness_df to country and score only\n",
    "happiness_df = happiness_df.loc[:,[\"Country\", \"Happiness.Rank\", \"Happiness.Score\"]]\n",
    "\n",
    "happiness_df.head()"
   ]
  },
  {
   "cell_type": "code",
   "execution_count": null,
   "metadata": {
    "scrolled": true
   },
   "outputs": [],
   "source": [
    "libraries_df = libraries_df.loc[(libraries_df[\"Data Year\"] == \"2017\"), :]\n",
    "libraries_df = libraries_df.dropna()\n",
    "\n",
    "#libraries_df.drop(libraries_df[libraries_df[\"Metric Data\"]==\"NaN\"].index, inplace=True)\n",
    "\n",
    "#library_df = libraries_df.drop(libraries_df[libraries_df[\"Metric Data\"] == \"NaN\"].index, inplace=False)\n",
    "\n",
    "#test_df = libraries_df.loc[libraries_df[\"Metric Data\"]==\"NaN\", :]\n",
    "libraries_df\n",
    "\n",
    "#test_df"
   ]
  },
  {
   "cell_type": "code",
   "execution_count": null,
   "metadata": {},
   "outputs": [],
   "source": [
    "libraries_df[\"Metric Data\"] = pd.to_numeric(libraries_df[\"Metric Data\"],errors=\"coerce\")"
   ]
  },
  {
   "cell_type": "code",
   "execution_count": null,
   "metadata": {},
   "outputs": [],
   "source": [
    "population_df = population_df[[\"Country Name\", \"2017\"]]\n",
    "population_df = population_df.rename(columns={\"2017\":\"Population Amount\"})\n",
    "population_df.head()"
   ]
  },
  {
   "cell_type": "code",
   "execution_count": null,
   "metadata": {},
   "outputs": [],
   "source": [
    "combined_df = pd.merge(happiness_df, libraries_df, how='left', left_on=[\"Country\"], right_on=[\"Country or Area\"])\n",
    "combined_df = pd.merge(combined_df, population_df, how='left', left_on=[\"Country\"], right_on=[\"Country Name\"])\n",
    "combined_df"
   ]
  },
  {
   "cell_type": "code",
   "execution_count": null,
   "metadata": {},
   "outputs": [],
   "source": [
    "combined_df = combined_df.dropna()\n",
    "combined_df.head()"
   ]
  },
  {
   "cell_type": "code",
   "execution_count": null,
   "metadata": {},
   "outputs": [],
   "source": [
    "# library_visits_df = libraries_df.loc[libraries_df[\"Metric\"]==\"Visits\", :]\n",
    "\n",
    "# #library_visits_df.dropna()\n",
    "# #library_visits_df[\"Metric Data (INT)\"] = library_visits_df[\"Metric Data\"].astype(int)\n",
    "\n",
    "\n",
    "# #library_visits_df.head(100)\n",
    "# type_group_df = library_visits_df.groupby([\"Library Type\"]).sum()\n",
    "\n",
    "# type_group_df"
   ]
  },
  {
   "cell_type": "code",
   "execution_count": null,
   "metadata": {},
   "outputs": [],
   "source": [
    "# PAM CODE HERE - start"
   ]
  },
  {
   "cell_type": "code",
   "execution_count": null,
   "metadata": {},
   "outputs": [],
   "source": [
    "libraries_2017_df = libraries_df.loc[(libraries_df[\"Data Year\"] == \"2017\"), [\"Library Type\", \"Region\",\"Country or Area\", \"Metric\", \"Metric Data\"]]\n",
    "                                \n",
    "libraries_2017_df = libraries_2017_df.dropna()\n",
    "                                         \n",
    "libraries_2017_df.head()"
   ]
  },
  {
   "cell_type": "code",
   "execution_count": null,
   "metadata": {},
   "outputs": [],
   "source": [
    "lib_pop_2017_df = pd.merge(libraries_2017_df, population_df, how='left', left_on=[\"Country or Area\"], right_on=[\"Country Name\"])\n",
    "#lib_pop_2017_df[\"Metric Per Pop\"] = lib_pop_2017_df[\"Metric Data\"]/lib_pop_2017_df[\"Population Amount\"]\n",
    "\n",
    "lib_pop_2017_df"
   ]
  },
  {
   "cell_type": "code",
   "execution_count": null,
   "metadata": {},
   "outputs": [],
   "source": [
    "lib_pop_2017_visits_df = lib_pop_2017_df.loc[lib_pop_2017_df[\"Metric\"]==\"Visits\", :]\n",
    "\n",
    "lib_pop_2017_visits_df = lib_pop_2017_visits_df.dropna()\n",
    "\n",
    "lib_pop_2017_visits_df"
   ]
  },
  {
   "cell_type": "code",
   "execution_count": null,
   "metadata": {},
   "outputs": [],
   "source": [
    "visits_by_type_df = lib_pop_2017_visits_df.groupby([\"Library Type\"]).sum()\n",
    "\n",
    "visits_by_type_df[\"Visits Per Capita\"] = visits_by_type_df[\"Metric Data\"]/visits_by_type_df[\"Population Amount\"]\n",
    "\n",
    "visits_by_type_df = visits_by_type_df.reset_index()\n",
    "visits_by_type_df"
   ]
  },
  {
   "cell_type": "code",
   "execution_count": null,
   "metadata": {},
   "outputs": [],
   "source": [
    "labels = visits_by_type_df[\"Library Type\"]\n",
    "\n",
    "library_types = visits_by_type_df[\"Visits Per Capita\"]\n",
    "\n",
    "explode = (0, 0, 0.0, 0.0, 0.0, 0.0)\n",
    "\n",
    "title = f\"Library Visits Per Library Type\\n\"\n",
    "plt.title(title)\n",
    "plt.pie(library_types, labels=labels, explode=explode,\n",
    "        autopct=\"%1.1f%%\", shadow=False, startangle=210)\n",
    "plt.axis(\"equal\")\n",
    "fig = plt.gcf()\n",
    "fig.set_size_inches(8,8)\n",
    "\n",
    "# Save figure\n",
    "plt.savefig('Images/VisitsPerLibraryType.png')\n",
    "\n",
    "plt.show()"
   ]
  },
  {
   "cell_type": "code",
   "execution_count": null,
   "metadata": {},
   "outputs": [],
   "source": [
    "lib_pop_2017_amount_df = lib_pop_2017_df.loc[lib_pop_2017_df[\"Metric\"]==\"Libraries\", :]\n",
    "\n",
    "lib_pop_2017_amount_df = lib_pop_2017_amount_df.dropna()\n",
    "\n",
    "lib_pop_2017_amount_df"
   ]
  },
  {
   "cell_type": "code",
   "execution_count": null,
   "metadata": {},
   "outputs": [],
   "source": [
    "amount_by_type_df = lib_pop_2017_amount_df.groupby([\"Library Type\"]).sum()\n",
    "\n",
    "amount_by_type_df = amount_by_type_df.reset_index()\n",
    "\n",
    "amount_by_type_df"
   ]
  },
  {
   "cell_type": "code",
   "execution_count": null,
   "metadata": {},
   "outputs": [],
   "source": [
    "labels = amount_by_type_df[\"Library Type\"]\n",
    "\n",
    "library_types = amount_by_type_df[\"Metric Data\"]\n",
    "\n",
    "explode = (0, 0, 0.0, 0.0, 0.05, 0.0)\n",
    "\n",
    "title = f\"Amount of Libraries Per Library Type\\n\\n\\n\"\n",
    "plt.title(title)\n",
    "plt.pie(library_types, labels=labels, explode=explode, pctdistance=1.2, labeldistance=1.3,\n",
    "        autopct=\"%1.1f%%\", shadow=False, startangle=115)\n",
    "plt.axis(\"equal\")\n",
    "fig = plt.gcf()\n",
    "fig.set_size_inches(8,8)\n",
    "\n",
    "# Save figure\n",
    "plt.savefig('Images/AmountOfLibrariesPerLibraryType.png')\n",
    "plt.show()"
   ]
  },
  {
   "cell_type": "code",
   "execution_count": null,
   "metadata": {},
   "outputs": [],
   "source": [
    "# PAM CODE HERE - end"
   ]
  },
  {
   "cell_type": "code",
   "execution_count": null,
   "metadata": {},
   "outputs": [],
   "source": [
    "# ZOE CODE HERE - start"
   ]
  },
  {
   "cell_type": "code",
   "execution_count": null,
   "metadata": {},
   "outputs": [],
   "source": [
    "## Overall happiness index 2017\n",
    "# Get top 20\n",
    "happiest_countries = happiness_df.loc[happiness_df[\"Happiness.Rank\"] <= 20]\n",
    "\n",
    "# set x axis and tick locations\n",
    "countries = happiest_countries[\"Country\"]\n",
    "happiness = happiest_countries[\"Happiness.Score\"]\n",
    "\n",
    "# Create chart\n",
    "plt.figure(figsize=(15,6))\n",
    "happy_bar = plt.bar(countries, happiness, align=\"center\")\n",
    "plt.xticks(rotation=\"vertical\")\n",
    "plt.title(\"20 happiest countries by rank, 2017\")\n",
    "plt.tight_layout()\n",
    "\n",
    "# Add happiness score text to bars\n",
    "# for column in happy_bar:\n",
    "#     height = column.get_height()\n",
    "#     plt.text(column.get_x() + column.get_width()/2.0, height, '%d' % float(height), ha='center', va='bottom')\n",
    "\n",
    "# Save figure\n",
    "plt.savefig('Images/happiest_countries.png')\n",
    "\n",
    "# Display\n",
    "plt.show()"
   ]
  },
  {
   "cell_type": "code",
   "execution_count": null,
   "metadata": {},
   "outputs": [],
   "source": [
    "## Happiness index for countries which we also have library data for\n",
    "# Get top 20\n",
    "happiest_library_countries = combined_df.loc[combined_df[\"Happiness.Score\"] > 6.1]\n",
    "\n",
    "# set x axis and tick locations\n",
    "countries = happiest_library_countries[\"Country\"]\n",
    "happiness = happiest_library_countries[\"Happiness.Score\"]\n",
    "\n",
    "# Create chart\n",
    "plt.figure(figsize=(15,6))\n",
    "plt.bar(countries, happiness, align=\"center\")\n",
    "plt.xticks(rotation=\"vertical\")\n",
    "plt.title(\"20 happiest countries with library usage data by rank, 2017\")\n",
    "plt.tight_layout()\n",
    "\n",
    "# Save figure\n",
    "plt.savefig('Images/happiest_library_countries.png')\n",
    "\n",
    "# Display\n",
    "plt.show()"
   ]
  },
  {
   "cell_type": "code",
   "execution_count": null,
   "metadata": {},
   "outputs": [],
   "source": [
    "## Scatter plot of physical visits and happiness\n",
    "# Drop metric rows for non-visit data\n",
    "visits_df = combined_df.drop(combined_df[combined_df[\"Metric\"] != \"Visits\"].index, inplace=False)\n",
    "\n",
    "# Sum visits for all library types for each country\n",
    "total_visits = visits_df.groupby(\"Country\")\n",
    "total_visits_sum = total_visits[\"Metric Data\"].sum()\n",
    "\n",
    "# Pull happiness scores for each country\n",
    "happiness_score = total_visits[\"Happiness.Score\"].mean()\n",
    "\n",
    "# Plot\n",
    "plt.scatter(total_visits_sum, happiness_score)\n",
    "plt.xlabel(\"Number of visits\")\n",
    "plt.ylabel(\"Happiness Score\")\n",
    "plt.title(\"Number of library visits vs. Country happiness score\")\n",
    "\n",
    "# Save figure\n",
    "plt.savefig('Images/physicalvisits_v_happiness.png')\n",
    "\n",
    "# Display\n",
    "plt.show()"
   ]
  },
  {
   "cell_type": "code",
   "execution_count": null,
   "metadata": {},
   "outputs": [],
   "source": [
    "## Scatter plot of loans and happiness\n",
    "# Drop metric rows for non-physical loan data\n",
    "loans_df = combined_df.drop(combined_df[combined_df[\"Metric\"] != \"Loans_books\"].index, inplace=False)\n",
    "\n",
    "# Sum loans for all library types for each country\n",
    "total_loans = loans_df.groupby(\"Country\")\n",
    "total_loans_sum = total_loans[\"Metric Data\"].sum()\n",
    "\n",
    "# Pull happiness scores for each country\n",
    "happiness_score = total_loans[\"Happiness.Score\"].mean()\n",
    "\n",
    "# Plot\n",
    "plt.scatter(total_loans_sum, happiness_score)\n",
    "plt.xlabel(\"Number of physical loans\")\n",
    "plt.ylabel(\"Happiness Score\")\n",
    "plt.title(\"Number of physical loans vs. Country happiness score\")\n",
    "\n",
    "# Save figure\n",
    "plt.savefig('Images/physicalloans_v_happiness.png')\n",
    "\n",
    "# Display\n",
    "plt.show()"
   ]
  },
  {
   "cell_type": "code",
   "execution_count": null,
   "metadata": {},
   "outputs": [],
   "source": [
    "# ZOE CODE HERE - end"
   ]
  },
  {
   "cell_type": "code",
   "execution_count": null,
   "metadata": {},
   "outputs": [],
   "source": [
    "# MALLORY CODE HERE - start"
   ]
  },
  {
   "cell_type": "code",
   "execution_count": null,
   "metadata": {},
   "outputs": [],
   "source": [
    "number_libraries_df = combined_df.loc[combined_df[\"Metric\"] == \"Libraries\", :]"
   ]
  },
  {
   "cell_type": "code",
   "execution_count": null,
   "metadata": {},
   "outputs": [],
   "source": [
    "number_group = number_libraries_df.groupby([\"Country\"])\n",
    "num_lib_df = number_group.sum()\n",
    "num_pop_df = number_group.max()\n",
    "num_lib_df = pd.DataFrame(num_lib_df[\"Metric Data\"])\n",
    "num_pop_df = pd.DataFrame(num_pop_df[\"Population Amount\"])\n",
    "\n",
    "pop_lib_df = pd.merge(num_lib_df, num_pop_df, how='left', on=[\"Country\"])\n",
    "pop_lib_df[\"Libraries Per Capita\"] = pop_lib_df[\"Metric Data\"]/pop_lib_df[\"Population Amount\"]\n",
    "pop_lib_df"
   ]
  },
  {
   "cell_type": "code",
   "execution_count": null,
   "metadata": {},
   "outputs": [],
   "source": [
    "x_axis = np.arange(len(pop_lib_df))\n",
    "tick_locations = [value+0.4 for value in x_axis]"
   ]
  },
  {
   "cell_type": "code",
   "execution_count": null,
   "metadata": {},
   "outputs": [],
   "source": [
    "plt.figure(figsize = (20,20))\n",
    "plt.bar(x_axis,pop_lib_df[\"Libraries Per Capita\"],color='b',alpha=0.5, align='edge')\n",
    "plt.xticks(tick_locations, num_lib_df.index,rotation=\"vertical\")\n",
    "\n",
    "plt.xlim(-0.25,len(x_axis))\n",
    "plt.ylim(0,max(pop_lib_df[\"Libraries Per Capita\"])+.00001)\n",
    "\n",
    "plt.title(\"Libraries per Capita\")\n",
    "plt.xlabel(\"Country\")\n",
    "plt.ylabel(\"Number of libraries\")\n",
    "\n",
    "plt.savefig(\"Images/libraries_per_country_bar.png\")\n",
    "\n",
    "plt.tight_layout()\n",
    "plt.show()"
   ]
  },
  {
   "cell_type": "code",
   "execution_count": null,
   "metadata": {},
   "outputs": [],
   "source": [
    "# MALLORY CODE HERE - end"
   ]
  },
  {
   "cell_type": "code",
   "execution_count": null,
   "metadata": {},
   "outputs": [],
   "source": [
    "#ELLIE CODE HERE - start"
   ]
  },
  {
   "cell_type": "code",
   "execution_count": null,
   "metadata": {},
   "outputs": [],
   "source": [
    "libraries_df[\"Metric Data\"] = pd.to_numeric(libraries_df[\"Metric Data\"],errors=\"coerce\")"
   ]
  },
  {
   "cell_type": "code",
   "execution_count": null,
   "metadata": {},
   "outputs": [],
   "source": [
    "#create DF to show only country and number of visits?\n",
    "visits_df = libraries_df.loc[libraries_df[\"Metric\"]==\"Visits\", :]\n",
    "visits_df.dtypes"
   ]
  },
  {
   "cell_type": "code",
   "execution_count": null,
   "metadata": {},
   "outputs": [],
   "source": [
    "grouped_visits_df = visits_df.groupby(['Country or Area'])\n",
    "print(grouped_visits_df)\n",
    "grouped_visits_df=grouped_visits_df.sum().head(20)"
   ]
  },
  {
   "cell_type": "code",
   "execution_count": null,
   "metadata": {},
   "outputs": [],
   "source": [
    "visit_number=grouped_visits_df.groupby(['Country or Area'])\n",
    "new_visits_df=visit_number.sum()\n",
    "new_visits_df = pd.DataFrame(grouped_visits_df[\"Metric Data\"])\n",
    "new_visits_df"
   ]
  },
  {
   "cell_type": "code",
   "execution_count": null,
   "metadata": {},
   "outputs": [],
   "source": [
    "x_axis = np.arange(len(new_visits_df))\n",
    "tick_locations = [value+0.5 for value in x_axis]"
   ]
  },
  {
   "cell_type": "code",
   "execution_count": null,
   "metadata": {},
   "outputs": [],
   "source": [
    "# Library Visits per Country - Bar Graph \n",
    "plt.figure(figsize = (20,20))\n",
    "\n",
    "plt.bar(x_axis,new_visits_df[\"Metric Data\"],color='b',alpha=0.5, align='edge')\n",
    "plt.xticks(tick_locations, new_visits_df.index,rotation=\"vertical\")\n",
    "\n",
    "plt.xlabel (\"Country\")\n",
    "plt.ylabel (\"Visits\")\n",
    "plt.title (\"Library Visits per Country\") \n",
    "\n",
    "#plt.xlim([])\n",
    "#plt.ylim([])\n",
    "\n",
    "plt.savefig('Images/visits_per_country.png')\n",
    "\n",
    "plt.tight_layout()\n",
    "plt.show()"
   ]
  },
  {
   "cell_type": "code",
   "execution_count": null,
   "metadata": {},
   "outputs": [],
   "source": [
    "# ELLIE CODE HERE - end"
   ]
  },
  {
   "cell_type": "code",
   "execution_count": null,
   "metadata": {},
   "outputs": [],
   "source": [
    "# Heatmaps"
   ]
  },
  {
   "cell_type": "code",
   "execution_count": null,
   "metadata": {},
   "outputs": [],
   "source": [
    "# Configure maps\n",
    "gmaps.configure(api_key=gkey)\n",
    "\n",
    "# heatmap merge\n",
    "map_df = pd.merge(happiness_df, capitals_df, how='outer', left_on='Country', right_on='CountryName')\n",
    "\n",
    "# country, lat, lng, visits, libraries, population, happiness score\n",
    "#map_df = pd.merge(happiness_df, pop_lib_df, how='outer', on='Country')\n",
    "#map_df = pd.merge(map_df, new_visits_df, left_on='Country', right_on='Country or Area')\n",
    "#map_df = pd.merge(map_df, capitals_df, how='outer', left_on='Country', right_on='CountryName')\n",
    "\n",
    "# Drop NaNs\n",
    "map_df = map_df.dropna()\n",
    "\n",
    "map_df"
   ]
  },
  {
   "cell_type": "code",
   "execution_count": null,
   "metadata": {},
   "outputs": [],
   "source": [
    "fig1 = gmaps.figure(center=(20,5), zoom_level=2)\n",
    "\n",
    "# Store lat and lng in list\n",
    "locations = map_df[[\"CapitalLatitude\",\"CapitalLongitude\"]]\n",
    "\n",
    "# Store happiness to set weight\n",
    "happiness = map_df[\"Happiness.Score\"]\n",
    "\n",
    "# Create heat layer\n",
    "heat_layer = gmaps.heatmap_layer(locations, weights=happiness, dissipating=False, max_intensity=7.6, point_radius=3.5)\n",
    "\n",
    "\n",
    "# Add heat layer\n",
    "fig1.add_layer(heat_layer)\n",
    "fig1"
   ]
  },
  {
   "cell_type": "code",
   "execution_count": null,
   "metadata": {},
   "outputs": [],
   "source": [
    "# Add markers for visits \n",
    "visits_df = pd.merge(map_df, new_visits_df, left_on='Country', right_on='Country or Area')\n",
    "\n",
    "visit_locations = visits_df[[\"CapitalLatitude\",\"CapitalLongitude\"]].astype(float)\n",
    "visits = visits_df[\"Metric Data\"].tolist()"
   ]
  },
  {
   "cell_type": "code",
   "execution_count": null,
   "metadata": {},
   "outputs": [],
   "source": [
    "fig2 = gmaps.figure(center=(20,5), zoom_level=2)\n",
    "\n",
    "#Create symbol layer\n",
    "visits_layer = gmaps.symbol_layer(\n",
    "    visit_locations, fill_color='blue',\n",
    "    stroke_color='rgba(0, 0, 150, 0)', scale=5,\n",
    "    info_box_content=[f\"Visit count: {visit}\" for visit in visits]\n",
    ")\n",
    "\n",
    "fig2.add_layer(heat_layer)\n",
    "fig2.add_layer(visits_layer)\n",
    "\n",
    "fig2"
   ]
  },
  {
   "cell_type": "code",
   "execution_count": null,
   "metadata": {},
   "outputs": [],
   "source": [
    "#Add markers for number of libraries per capita\n",
    "lib_amt_df = pd.merge(map_df, pop_lib_df, on='Country')\n",
    "\n",
    "lib_amt_df = lib_amt_df.head(10)\n",
    "\n",
    "lib_locations = lib_amt_df[[\"CapitalLatitude\",\"CapitalLongitude\"]].astype(float)\n",
    "\n",
    "lib_amt_df[\"Lib Per 100000\"] = lib_amt_df[\"Libraries Per Capita\"]*100000\n",
    "lib_amt_df[\"Lib Per 100000\"] = lib_amt_df[\"Lib Per 100000\"].round(2)\n",
    "\n",
    "lib_amt_df = lib_amt_df.rename(columns={\"Happiness.Rank\": \"HappinessRank\", \n",
    "                          \"Happiness.Score\":\"HappinessScore\"})\n",
    "\n",
    "lib_amt_df[\"HappinessRank\"] = lib_amt_df[\"HappinessRank\"].astype(int)\n"
   ]
  },
  {
   "cell_type": "code",
   "execution_count": null,
   "metadata": {},
   "outputs": [],
   "source": [
    "info_box_template = \"\"\"\n",
    "<dl>\n",
    "<dt>Country</dt><dd>{Country}</dd>\n",
    "<dt>Happiness Rank</dt><dd>{HappinessRank}</dd>\n",
    "<dt>Libraries Per 100000 People</dt><dd>{Lib Per 100000}</dd>\n",
    "</dl>\n",
    "\"\"\"\n",
    "\n",
    "#<dt>Happiness Rank</dt><dd>{Happiness.Rank}</dd>\n",
    "# Store the DataFrame Row\n",
    "# NOTE: be sure to update with your DataFrame name\n",
    "library_info = [info_box_template.format(**row) for index, row in lib_amt_df.iterrows()]\n",
    "\n",
    "library_info"
   ]
  },
  {
   "cell_type": "code",
   "execution_count": null,
   "metadata": {},
   "outputs": [],
   "source": [
    "fig3 = gmaps.figure(center=(20,30), zoom_level=2)\n",
    "\n",
    "#Create symbol layer\n",
    "libraries_layer = gmaps.marker_layer(\n",
    "    lib_locations, info_box_content=library_info)\n",
    "\n",
    "fig3.add_layer(heat_layer)\n",
    "fig3.add_layer(libraries_layer)\n",
    "\n",
    "fig3"
   ]
  }
 ],
 "metadata": {
  "kernelspec": {
   "display_name": "Python 3",
   "language": "python",
   "name": "python3"
  },
  "language_info": {
   "codemirror_mode": {
    "name": "ipython",
    "version": 3
   },
   "file_extension": ".py",
   "mimetype": "text/x-python",
   "name": "python",
   "nbconvert_exporter": "python",
   "pygments_lexer": "ipython3",
   "version": "3.8.5"
  }
 },
 "nbformat": 4,
 "nbformat_minor": 4
}
