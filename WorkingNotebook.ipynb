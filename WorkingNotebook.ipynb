{
 "cells": [
  {
   "cell_type": "code",
   "execution_count": null,
   "metadata": {},
   "outputs": [],
   "source": [
    "import pandas as pd"
   ]
  },
  {
   "cell_type": "code",
   "execution_count": null,
   "metadata": {},
   "outputs": [],
   "source": [
    "csv_path_happiness = \"Resources/2017_happiness.csv\"\n",
    "csv_path_libraries = \"Resources/lmw_data_09_Feb_2021.csv\"\n",
    "csv_path_population = \"Resources/API_SP.POP.TOTL_DS2_en_csv_v2_2017895.csv\"\n",
    "\n",
    "happiness_df = pd.read_csv(csv_path_happiness)\n",
    "libraries_df = pd.read_csv(csv_path_libraries, encoding='latin-1')\n",
    "population_df= pd.read_csv(csv_path_population)"
   ]
  },
  {
   "cell_type": "code",
   "execution_count": null,
   "metadata": {
    "scrolled": true
   },
   "outputs": [],
   "source": [
    "happiness_df.head()"
   ]
  },
  {
   "cell_type": "code",
   "execution_count": null,
   "metadata": {
    "scrolled": true
   },
   "outputs": [],
   "source": [
    "libraries_df = libraries_df.loc[(libraries_df[\"Data Year\"] == \"2017\"), :]\n",
    "libraries_df = libraries_df.dropna()\n",
    "\n",
    "#libraries_df.drop(libraries_df[libraries_df[\"Metric Data\"]==\"NaN\"].index, inplace=True)\n",
    "\n",
    "#library_df = libraries_df.drop(libraries_df[libraries_df[\"Metric Data\"] == \"NaN\"].index, inplace=False)\n",
    "\n",
    "#test_df = libraries_df.loc[libraries_df[\"Metric Data\"]==\"NaN\", :]\n",
    "libraries_df\n",
    "\n",
    "#test_df"
   ]
  },
  {
   "cell_type": "code",
   "execution_count": null,
   "metadata": {},
   "outputs": [],
   "source": [
    "libraries_df[\"Metric Data\"] = pd.to_numeric(libraries_df[\"Metric Data\"],errors=\"coerce\")"
   ]
  },
  {
   "cell_type": "code",
   "execution_count": null,
   "metadata": {},
   "outputs": [],
   "source": [
    "combined_df = pd.merge(happiness_df, libraries_df, how='left', left_on=[\"Country\"], right_on=[\"Country or Area\"])\n",
    "combined_df"
   ]
  },
  {
   "cell_type": "code",
   "execution_count": null,
   "metadata": {},
   "outputs": [],
   "source": [
    "combined_df = combined_df.dropna()\n",
    "combined_df.head()"
   ]
  },
  {
   "cell_type": "code",
   "execution_count": null,
   "metadata": {},
   "outputs": [],
   "source": [
    "library_visits_df = libraries_df.loc[libraries_df[\"Metric\"]==\"Visits\", :]\n",
    "\n",
    "#library_visits_df.dropna()\n",
    "#library_visits_df[\"Metric Data (INT)\"] = library_visits_df[\"Metric Data\"].astype(int)\n",
    "\n",
    "\n",
    "#library_visits_df.head(100)\n",
    "type_group_df = library_visits_df.groupby([\"Library Type\"]).sum()\n",
    "\n",
    "type_group_df"
   ]
  },
  {
   "cell_type": "code",
   "execution_count": null,
   "metadata": {},
   "outputs": [],
   "source": [
    "# PAM CODE HERE - start"
   ]
  },
  {
   "cell_type": "code",
   "execution_count": null,
   "metadata": {},
   "outputs": [],
   "source": [
    "population_df = population_df[[\"Country Name\", \"2017\"]]\n",
    "population_df = population_df.rename(columns={\"2017\":\"Population Amount\"})\n",
    "population_df.head()"
   ]
  },
  {
   "cell_type": "code",
   "execution_count": null,
   "metadata": {},
   "outputs": [],
   "source": [
    "libraries_2017_df = libraries_df.loc[(libraries_df[\"Data Year\"] == \"2017\"), [\"Library Type\", \"Region\",\"Country or Area\", \"Metric\", \"Metric Data\"]]\n",
    "                                \n",
    "libraries_2017_df = libraries_2017_df.dropna()\n",
    "                                         \n",
    "libraries_2017_df.head()"
   ]
  },
  {
   "cell_type": "code",
   "execution_count": null,
   "metadata": {},
   "outputs": [],
   "source": [
    "lib_pop_2017_df = pd.merge(libraries_2017_df, population_df, how='left', left_on=[\"Country or Area\"], right_on=[\"Country Name\"])\n",
    "#lib_pop_2017_df[\"Metric Per Pop\"] = lib_pop_2017_df[\"Metric Data\"]/lib_pop_2017_df[\"Population Amount\"]\n",
    "\n",
    "lib_pop_2017_df"
   ]
  },
  {
   "cell_type": "code",
   "execution_count": null,
   "metadata": {},
   "outputs": [],
   "source": [
    "lib_pop_2017_visits_df = lib_pop_2017_df.loc[lib_pop_2017_df[\"Metric\"]==\"Visits\", :]\n",
    "\n",
    "lib_pop_2017_visits_df = lib_pop_2017_visits_df.dropna()\n",
    "\n",
    "lib_pop_2017_visits_df"
   ]
  },
  {
   "cell_type": "code",
   "execution_count": null,
   "metadata": {},
   "outputs": [],
   "source": [
    "visits_by_type_df = lib_pop_2017_visits_df.groupby([\"Library Type\"]).sum()\n",
    "\n",
    "visits_by_type_df[\"Visits Per Capita\"] = visits_by_type_df[\"Metric Data\"]/visits_by_type_df[\"Population Amount\"]\n",
    "\n",
    "visits_by_type_df = visits_by_type_df.reset_index()\n",
    "visits_by_type_df"
   ]
  },
  {
   "cell_type": "code",
   "execution_count": null,
   "metadata": {},
   "outputs": [],
   "source": [
    "labels = visits_by_type_df[\"Library Type\"]\n",
    "\n",
    "library_types = visits_by_type_df[\"Visits Per Capita\"]\n",
    "\n",
    "explode = (0, 0, 0.0, 0.0, 0.0, 0.0)\n",
    "\n",
    "title = f\"Library Visits Per Library Type\\n\"\n",
    "plt.title(title)\n",
    "plt.pie(library_types, labels=labels, explode=explode,\n",
    "        autopct=\"%1.1f%%\", shadow=False, startangle=210)\n",
    "plt.axis(\"equal\")\n",
    "fig = plt.gcf()\n",
    "fig.set_size_inches(8,8)\n",
    "plt.show()"
   ]
  },
  {
   "cell_type": "code",
   "execution_count": null,
   "metadata": {},
   "outputs": [],
   "source": [
    "lib_pop_2017_amount_df = lib_pop_2017_df.loc[lib_pop_2017_df[\"Metric\"]==\"Libraries\", :]\n",
    "\n",
    "lib_pop_2017_amount_df = lib_pop_2017_amount_df.dropna()\n",
    "\n",
    "lib_pop_2017_amount_df"
   ]
  },
  {
   "cell_type": "code",
   "execution_count": null,
   "metadata": {},
   "outputs": [],
   "source": [
    "amount_by_type_df = lib_pop_2017_amount_df.groupby([\"Library Type\"]).sum()\n",
    "\n",
    "amount_by_type_df = amount_by_type_df.reset_index()\n",
    "\n",
    "amount_by_type_df"
   ]
  },
  {
   "cell_type": "code",
   "execution_count": null,
   "metadata": {},
   "outputs": [],
   "source": [
    "labels = amount_by_type_df[\"Library Type\"]\n",
    "\n",
    "library_types = amount_by_type_df[\"Metric Data\"]\n",
    "\n",
    "explode = (0, 0, 0.0, 0.0, 0.05, 0.0)\n",
    "\n",
    "title = f\"Amount of Libraries Per Library Type\\n\\n\\n\"\n",
    "plt.title(title)\n",
    "plt.pie(library_types, labels=labels, explode=explode, pctdistance=1.2, labeldistance=1.3,\n",
    "        autopct=\"%1.1f%%\", shadow=False, startangle=115)\n",
    "plt.axis(\"equal\")\n",
    "fig = plt.gcf()\n",
    "fig.set_size_inches(8,8)\n",
    "plt.show()"
   ]
  },
  {
   "cell_type": "code",
   "execution_count": null,
   "metadata": {},
   "outputs": [],
   "source": [
    "# PAM CODE HERE - end"
   ]
  },
  {
   "cell_type": "code",
   "execution_count": null,
   "metadata": {},
   "outputs": [],
   "source": [
    "# ZOE CODE HERE - start"
   ]
  },
  {
   "cell_type": "code",
   "execution_count": null,
   "metadata": {},
   "outputs": [],
   "source": [
    "## **********Move up to cell 1 once team can coordinate***********\n",
    "import matplotlib.pyplot as plt\n",
    "import numpy as np"
   ]
  },
  {
   "cell_type": "code",
   "execution_count": null,
   "metadata": {},
   "outputs": [],
   "source": [
    "## Overall happiness index 2017\n",
    "# Get top 20\n",
    "happiest_countries = happiness_df.loc[happiness_df[\"Happiness.Rank\"] <= 20]\n",
    "\n",
    "# set x axis and tick locations\n",
    "countries = happiest_countries[\"Country\"]\n",
    "happiness = happiest_countries[\"Happiness.Score\"]\n",
    "\n",
    "# Create chart\n",
    "plt.figure(figsize=(15,6))\n",
    "happy_bar = plt.bar(countries, happiness, align=\"center\")\n",
    "plt.xticks(rotation=\"vertical\")\n",
    "plt.title(\"20 happiest countries by rank, 2017\")\n",
    "plt.tight_layout()\n",
    "\n",
    "# Add happiness score text to bars\n",
    "# for column in happy_bar:\n",
    "#     height = column.get_height()\n",
    "#     plt.text(column.get_x() + column.get_width()/2.0, height, '%d' % float(height), ha='center', va='bottom')\n",
    "\n",
    "# Save figure\n",
    "plt.savefig('happiest_countries.png')\n",
    "\n",
    "# Display\n",
    "plt.show()"
   ]
  },
  {
   "cell_type": "code",
   "execution_count": null,
   "metadata": {},
   "outputs": [],
   "source": [
    "## Happiness index for countries which we also have library data for\n",
    "# Get top 20\n",
    "happiest_library_countries = combined_df.loc[combined_df[\"Happiness.Score\"] > 6.1]\n",
    "\n",
    "# set x axis and tick locations\n",
    "countries = happiest_library_countries[\"Country\"]\n",
    "happiness = happiest_library_countries[\"Happiness.Score\"]\n",
    "\n",
    "# Create chart\n",
    "plt.figure(figsize=(15,6))\n",
    "plt.bar(countries, happiness, align=\"center\")\n",
    "plt.xticks(rotation=\"vertical\")\n",
    "plt.title(\"20 happiest countries with library usage data by rank, 2017\")\n",
    "plt.tight_layout()\n",
    "\n",
    "# Save figure\n",
    "plt.savefig('happiest_library_countries.png')\n",
    "\n",
    "# Display\n",
    "plt.show()"
   ]
  },
  {
   "cell_type": "code",
   "execution_count": null,
   "metadata": {},
   "outputs": [],
   "source": [
    "## Scatter plot of physical visits and happiness\n",
    "# Drop metric rows for non-visit data\n",
    "visits_df = combined_df.drop(combined_df[combined_df[\"Metric\"] != \"Visits\"].index, inplace=False)\n",
    "\n",
    "# Sum visits for all library types for each country\n",
    "total_visits = visits_df.groupby(\"Country\")\n",
    "total_visits_sum = total_visits[\"Metric Data\"].sum()\n",
    "\n",
    "# Pull happiness scores for each country\n",
    "happiness_score = total_visits[\"Happiness.Score\"].mean()\n",
    "\n",
    "# Plot\n",
    "plt.scatter(total_visits_sum, happiness_score)\n",
    "plt.xlabel(\"Number of visits\")\n",
    "plt.ylabel(\"Happiness Score\")\n",
    "plt.title(\"Number of library visits vs. Country happiness score\")\n",
    "\n",
    "# Save figure\n",
    "plt.savefig('physicalvisits_v_happiness.png')\n",
    "\n",
    "# Display\n",
    "plt.show()"
   ]
  },
  {
   "cell_type": "code",
   "execution_count": null,
   "metadata": {},
   "outputs": [],
   "source": [
    "## Scatter plot of loans and happiness\n",
    "# Drop metric rows for non-physical loan data\n",
    "loans_df = combined_df.drop(combined_df[combined_df[\"Metric\"] != \"Loans_books\"].index, inplace=False)\n",
    "\n",
    "# Sum loans for all library types for each country\n",
    "total_loans = loans_df.groupby(\"Country\")\n",
    "total_loans_sum = total_loans[\"Metric Data\"].sum()\n",
    "\n",
    "# Pull happiness scores for each country\n",
    "happiness_score = total_loans[\"Happiness.Score\"].mean()\n",
    "\n",
    "# Plot\n",
    "plt.scatter(total_loans_sum, happiness_score)\n",
    "plt.xlabel(\"Number of physical loans\")\n",
    "plt.ylabel(\"Happiness Score\")\n",
    "plt.title(\"Number of physical loans vs. Country happiness score\")\n",
    "\n",
    "# Save figure\n",
    "plt.savefig('physicalloans_v_happiness.png')\n",
    "\n",
    "# Display\n",
    "plt.show()"
   ]
  },
  {
   "cell_type": "code",
   "execution_count": null,
   "metadata": {},
   "outputs": [],
   "source": [
    "# ZOE CODE HERE - end"
   ]
  },
  {
   "cell_type": "code",
   "execution_count": null,
   "metadata": {},
   "outputs": [],
   "source": [
    "# MALLORY CODE HERE - start"
   ]
  },
  {
   "cell_type": "code",
   "execution_count": null,
   "metadata": {},
   "outputs": [],
   "source": [
    "#bar graph of libraries per country\n",
    "import matplotlib.pyplot as plt\n",
    "import numpy as np"
   ]
  },
  {
   "cell_type": "code",
   "execution_count": null,
   "metadata": {},
   "outputs": [],
   "source": [
    "number_libraries_df = combined_df.loc[combined_df[\"Metric\"] == \"Libraries\", :]"
   ]
  },
  {
   "cell_type": "code",
   "execution_count": null,
   "metadata": {},
   "outputs": [],
   "source": [
    "number_group = number_libraries_df.groupby([\"Country\"])\n",
    "num_lib_df = number_group.sum()\n",
    "num_lib_df = pd.DataFrame(num_lib_df[\"Metric Data\"])\n",
    "num_lib_df\n",
    "\n",
    "#plan is to limit to happiest country to make this more manageable -- \n",
    "#otherwise the option is to download population data"
   ]
  },
  {
   "cell_type": "code",
   "execution_count": null,
   "metadata": {},
   "outputs": [],
   "source": [
    "x_axis = np.arange(len(num_lib_df))\n",
    "tick_locations = [value+0.4 for value in x_axis]"
   ]
  },
  {
   "cell_type": "code",
   "execution_count": null,
   "metadata": {},
   "outputs": [],
   "source": [
    "plt.figure(figsize = (50,50))\n",
    "plt.bar(x_axis,num_lib_df[\"Metric Data\"],color='b',alpha=0.5, align='edge')\n",
    "plt.xticks(tick_locations, num_lib_df.index,rotation=\"vertical\")\n",
    "\n",
    "plt.xlim(-0.25,len(x_axis))\n",
    "plt.ylim(0,max(num_lib_df[\"Metric Data\"])+10)\n",
    "\n",
    "plt.title(\"Number of librarires in countries\")\n",
    "plt.xlabel(\"Country\")\n",
    "plt.ylabel(\"Number of libraries\")\n",
    "\n",
    "#plt.savefig(\"Images/libraries_per_country_bar\")\n",
    "\n",
    "plt.tight_layout()\n",
    "plt.show()"
   ]
  },
  {
   "cell_type": "code",
   "execution_count": null,
   "metadata": {},
   "outputs": [],
   "source": [
    "# MALLORY CODE HERE - end"
   ]
  },
  {
   "cell_type": "code",
   "execution_count": null,
   "metadata": {},
   "outputs": [],
   "source": [
    "# ELLIE CODE HERE - start"
   ]
  },
  {
   "cell_type": "code",
   "execution_count": null,
   "metadata": {},
   "outputs": [],
   "source": []
  },
  {
   "cell_type": "code",
   "execution_count": null,
   "metadata": {},
   "outputs": [],
   "source": [
    "# ELLIE CODE HERE - end"
   ]
  }
 ],
 "metadata": {
  "kernelspec": {
   "display_name": "Python 3",
   "language": "python",
   "name": "python3"
  },
  "language_info": {
   "codemirror_mode": {
    "name": "ipython",
    "version": 3
   },
   "file_extension": ".py",
   "mimetype": "text/x-python",
   "name": "python",
   "nbconvert_exporter": "python",
   "pygments_lexer": "ipython3",
   "version": "3.6.10"
  }
 },
 "nbformat": 4,
 "nbformat_minor": 4
}
