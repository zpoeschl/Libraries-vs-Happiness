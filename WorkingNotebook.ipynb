{
 "cells": [
  {
   "cell_type": "code",
   "execution_count": null,
   "metadata": {},
   "outputs": [],
   "source": [
    "import pandas as pd"
   ]
  },
  {
   "cell_type": "code",
   "execution_count": null,
   "metadata": {},
   "outputs": [],
   "source": [
    "csv_path_happiness = \"Resources/2017_happiness.csv\"\n",
    "csv_path_libraries = \"Resources/lmw_data_09_Feb_2021.csv\"\n",
    "\n",
    "happiness_df = pd.read_csv(csv_path_happiness)\n",
    "libraries_df = pd.read_csv(csv_path_libraries, encoding='latin-1')"
   ]
  },
  {
   "cell_type": "code",
   "execution_count": null,
   "metadata": {},
   "outputs": [],
   "source": [
    "happiness_df.head()"
   ]
  },
  {
   "cell_type": "code",
   "execution_count": null,
   "metadata": {},
   "outputs": [],
   "source": [
    "libraries_df = libraries_df.loc[(libraries_df[\"Data Year\"] == \"2017\"), :]\n",
    "libraries_df = libraries_df.dropna()\n",
    "\n",
    "#libraries_df.drop(libraries_df[libraries_df[\"Metric Data\"]==\"NaN\"].index, inplace=True)\n",
    "\n",
    "#library_df = libraries_df.drop(libraries_df[libraries_df[\"Metric Data\"] == \"NaN\"].index, inplace=False)\n",
    "\n",
    "#test_df = libraries_df.loc[libraries_df[\"Metric Data\"]==\"NaN\", :]\n",
    "libraries_df\n",
    "\n",
    "#test_df"
   ]
  },
  {
   "cell_type": "code",
   "execution_count": null,
   "metadata": {},
   "outputs": [],
   "source": [
    "libraries_df[\"Metric Data\"] = pd.to_numeric(libraries_df[\"Metric Data\"],errors=\"coerce\")"
   ]
  },
  {
   "cell_type": "code",
   "execution_count": null,
   "metadata": {},
   "outputs": [],
   "source": [
    "combined_df = pd.merge(happiness_df, libraries_df, how='left', left_on=[\"Country\"], right_on=[\"Country or Area\"])\n",
    "combined_df"
   ]
  },
  {
   "cell_type": "code",
   "execution_count": null,
   "metadata": {},
   "outputs": [],
   "source": [
    "combined_df = combined_df.dropna()\n",
    "combined_df.head()"
   ]
  },
  {
   "cell_type": "code",
   "execution_count": null,
   "metadata": {},
   "outputs": [],
   "source": [
    "library_visits_df = libraries_df.loc[libraries_df[\"Metric\"]==\"Visits\", :]\n",
    "\n",
    "#library_visits_df.dropna()\n",
    "library_visits_df[\"Metric Data (INT)\"] = library_visits_df[\"Metric Data\"].astype(int)\n",
    "\n",
    "\n",
    "#library_visits_df.head(100)\n",
    "type_group_df = library_visits_df.groupby([\"Library Type\"]).sum()\n",
    "\n",
    "type_group_df"
   ]
  },
  {
   "cell_type": "code",
   "execution_count": null,
   "metadata": {},
   "outputs": [],
   "source": [
    "# PAM CODE HERE - start"
   ]
  },
  {
   "cell_type": "code",
   "execution_count": null,
   "metadata": {},
   "outputs": [],
   "source": []
  },
  {
   "cell_type": "code",
   "execution_count": null,
   "metadata": {},
   "outputs": [],
   "source": [
    "# PAM CODE HERE - end"
   ]
  },
  {
   "cell_type": "code",
   "execution_count": null,
   "metadata": {},
   "outputs": [],
   "source": [
    "# ZOE CODE HERE - start"
   ]
  },
  {
   "cell_type": "code",
   "execution_count": null,
   "metadata": {},
   "outputs": [],
   "source": []
  },
  {
   "cell_type": "code",
   "execution_count": null,
   "metadata": {},
   "outputs": [],
   "source": [
    "# ZOE CODE HERE - end"
   ]
  },
  {
   "cell_type": "code",
   "execution_count": null,
   "metadata": {},
   "outputs": [],
   "source": [
    "# MALLORY CODE HERE - start"
   ]
  },
  {
   "cell_type": "code",
   "execution_count": null,
   "metadata": {},
   "outputs": [],
   "source": [
    "#bar graph of libraries per country\n",
    "import matplotlib.pyplot as plt\n",
    "import numpy as np"
   ]
  },
  {
   "cell_type": "code",
   "execution_count": null,
   "metadata": {},
   "outputs": [],
   "source": [
    "number_libraries_df = combined_df.loc[combined_df[\"Metric\"] == \"Libraries\", :]"
   ]
  },
  {
   "cell_type": "code",
   "execution_count": null,
   "metadata": {},
   "outputs": [],
   "source": [
    "number_group = number_libraries_df.groupby([\"Country\"])\n",
    "num_lib_df = number_group.sum()\n",
    "num_lib_df = pd.DataFrame(num_lib_df[\"Metric Data\"])\n",
    "num_lib_df\n",
    "\n",
    "#plan is to limit to happiest country to make this more manageable -- \n",
    "#otherwise the option is to download population data"
   ]
  },
  {
   "cell_type": "code",
   "execution_count": null,
   "metadata": {},
   "outputs": [],
   "source": [
    "x_axis = np.arange(len(num_lib_df))\n",
    "tick_locations = [value+0.4 for value in x_axis]"
   ]
  },
  {
   "cell_type": "code",
   "execution_count": null,
   "metadata": {},
   "outputs": [],
   "source": [
    "plt.figure(figsize = (50,50))\n",
    "plt.bar(x_axis,num_lib_df[\"Metric Data\"],color='b',alpha=0.5, align='edge')\n",
    "plt.xticks(tick_locations, num_lib_df.index,rotation=\"vertical\")\n",
    "\n",
    "plt.xlim(-0.25,len(x_axis))\n",
    "plt.ylim(0,max(num_lib_df[\"Metric Data\"])+10)\n",
    "\n",
    "plt.title(\"Number of librarires in countries\")\n",
    "plt.xlabel(\"Country\")\n",
    "plt.ylabel(\"Number of libraries\")\n",
    "\n",
    "#plt.savefig(\"Images/libraries_per_country_bar\")\n",
    "\n",
    "plt.tight_layout()\n",
    "plt.show()"
   ]
  },
  {
   "cell_type": "code",
   "execution_count": null,
   "metadata": {},
   "outputs": [],
   "source": [
    "# MALLORY CODE HERE - end"
   ]
  },
  {
   "cell_type": "code",
   "execution_count": null,
   "metadata": {},
   "outputs": [],
   "source": [
    "# ELLIE CODE HERE - start"
   ]
  },
  {
   "cell_type": "code",
   "execution_count": null,
   "metadata": {},
   "outputs": [],
   "source": []
  },
  {
   "cell_type": "code",
   "execution_count": null,
   "metadata": {},
   "outputs": [],
   "source": [
    "# ELLIE CODE HERE - end"
   ]
  }
 ],
 "metadata": {
  "kernelspec": {
   "display_name": "Python 3",
   "language": "python",
   "name": "python3"
  },
  "language_info": {
   "codemirror_mode": {
    "name": "ipython",
    "version": 3
   },
   "file_extension": ".py",
   "mimetype": "text/x-python",
   "name": "python",
   "nbconvert_exporter": "python",
   "pygments_lexer": "ipython3",
   "version": "3.8.5"
  }
 },
 "nbformat": 4,
 "nbformat_minor": 4
}
