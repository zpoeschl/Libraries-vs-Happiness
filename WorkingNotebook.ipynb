{
 "cells": [
  {
   "cell_type": "code",
   "execution_count": null,
   "metadata": {},
   "outputs": [],
   "source": [
    "import pandas as pd\n"
   ]
  },
  {
   "cell_type": "code",
   "execution_count": null,
   "metadata": {},
   "outputs": [],
   "source": [
    "csv_path_happiness = \"Resources/2017_happiness.csv\"\n",
    "csv_path_libraries = \"Resources/lmw_data_09_Feb_2021.csv\"\n",
    "\n",
    "happiness_df = pd.read_csv(csv_path_happiness)\n",
    "libraries_df = pd.read_csv(csv_path_libraries, encoding='latin-1')"
   ]
  },
  {
   "cell_type": "code",
   "execution_count": null,
   "metadata": {},
   "outputs": [],
   "source": [
    "happiness_df.head()"
   ]
  },
  {
   "cell_type": "code",
   "execution_count": null,
   "metadata": {},
   "outputs": [],
   "source": [
    "libraries_df = libraries_df.loc[(libraries_df[\"Data Year\"] == \"2017\"), :]\n",
    "libraries_df = libraries_df.dropna()\n",
    "\n",
    "#libraries_df.drop(libraries_df[libraries_df[\"Metric Data\"]==\"NaN\"].index, inplace=True)\n",
    "\n",
    "#library_df = libraries_df.drop(libraries_df[libraries_df[\"Metric Data\"] == \"NaN\"].index, inplace=False)\n",
    "\n",
    "#test_df = libraries_df.loc[libraries_df[\"Metric Data\"]==\"NaN\", :]\n",
    "libraries_df\n",
    "\n",
    "#test_df"
   ]
  },
  {
   "cell_type": "code",
   "execution_count": null,
   "metadata": {},
   "outputs": [],
   "source": [
    "combined_df = pd.merge(happiness_df, libraries_df, how='left', left_on=[\"Country\"], right_on=[\"Country or Area\"])\n",
    "combined_df"
   ]
  },
  {
   "cell_type": "code",
   "execution_count": null,
   "metadata": {},
   "outputs": [],
   "source": [
    "combined_df = combined_df.dropna()\n",
    "combined_df.head()"
   ]
  },
  {
   "cell_type": "code",
   "execution_count": null,
   "metadata": {},
   "outputs": [],
   "source": [
    "library_visits_df = libraries_df.loc[libraries_df[\"Metric\"]==\"Visits\", :]\n",
    "\n",
    "#library_visits_df.dropna()\n",
    "library_visits_df[\"Metric Data (INT)\"] = library_visits_df[\"Metric Data\"].astype(int)\n",
    "\n",
    "\n",
    "#library_visits_df.head(100)\n",
    "type_group_df = library_visits_df.groupby([\"Library Type\"]).sum()\n",
    "\n",
    "type_group_df"
   ]
  },
  {
   "cell_type": "code",
   "execution_count": null,
   "metadata": {},
   "outputs": [],
   "source": [
    "# PAM CODE HERE - start"
   ]
  },
  {
   "cell_type": "code",
   "execution_count": null,
   "metadata": {},
   "outputs": [],
   "source": []
  },
  {
   "cell_type": "code",
   "execution_count": null,
   "metadata": {},
   "outputs": [],
   "source": [
    "# PAM CODE HERE - end"
   ]
  },
  {
   "cell_type": "code",
   "execution_count": null,
   "metadata": {},
   "outputs": [],
   "source": [
    "# ZOE CODE HERE - start"
   ]
  },
  {
   "cell_type": "code",
   "execution_count": null,
   "metadata": {},
   "outputs": [],
   "source": []
  },
  {
   "cell_type": "code",
   "execution_count": null,
   "metadata": {},
   "outputs": [],
   "source": [
    "# ZOE CODE HERE - end"
   ]
  },
  {
   "cell_type": "code",
   "execution_count": null,
   "metadata": {},
   "outputs": [],
   "source": [
    "# MALLORY CODE HERE - start"
   ]
  },
  {
   "cell_type": "code",
   "execution_count": null,
   "metadata": {},
   "outputs": [],
   "source": []
  },
  {
   "cell_type": "code",
   "execution_count": null,
   "metadata": {},
   "outputs": [],
   "source": [
    "# MALLORY CODE HERE - end"
   ]
  },
  {
   "cell_type": "code",
   "execution_count": null,
   "metadata": {},
   "outputs": [],
   "source": [
    "#ELLIE CODE HERE - start\n",
    "import matplotlib.pyplot as plt\n",
    "import numpy as np"
   ]
  },
  {
   "cell_type": "code",
   "execution_count": null,
   "metadata": {},
   "outputs": [],
   "source": [
    "libraries_df[\"Metric Data\"] = pd.to_numeric(libraries_df[\"Metric Data\"],errors=\"coerce\")"
   ]
  },
  {
   "cell_type": "code",
   "execution_count": null,
   "metadata": {},
   "outputs": [],
   "source": [
    "#create DF to show only country and number of visits?\n",
    "visits_df = libraries_df.loc[libraries_df[\"Metric\"]==\"Visits\", :]\n",
    "visits_df.dtypes"
   ]
  },
  {
   "cell_type": "code",
   "execution_count": null,
   "metadata": {},
   "outputs": [],
   "source": [
    "grouped_visits_df = visits_df.groupby(['Country or Area'])\n",
    "print(grouped_visits_df)\n",
    "grouped_visits_df=grouped_visits_df.sum().head(20)\n"
   ]
  },
  {
   "cell_type": "code",
   "execution_count": null,
   "metadata": {},
   "outputs": [],
   "source": [
    "visit_number=grouped_visits_df.groupby(['Country or Area'])\n",
    "new_visits_df=visit_number.sum()\n",
    "new_visits_df = pd.DataFrame(grouped_visits_df[\"Metric Data\"])\n",
    "new_visits_df\n"
   ]
  },
  {
   "cell_type": "code",
   "execution_count": null,
   "metadata": {},
   "outputs": [],
   "source": [
    "x_axis = np.arange(len(new_visits_df))\n",
    "tick_locations = [value+0.5 for value in x_axis]"
   ]
  },
  {
   "cell_type": "code",
   "execution_count": null,
   "metadata": {},
   "outputs": [],
   "source": [
    "# Library Visits per Country - Bar Graph \n",
    "plt.figure(figsize = (20,20))\n",
    "\n",
    "plt.bar(x_axis,new_visits_df[\"Metric Data\"],color='b',alpha=0.5, align='edge')\n",
    "plt.xticks(tick_locations, new_visits_df.index,rotation=\"vertical\")\n",
    "\n",
    "plt.xlabel (\"Country\")\n",
    "plt.ylabel (\"Visits\")\n",
    "plt.title (\"Library Visits per Country\") \n",
    "\n",
    "\n",
    "#plt.xlim([])\n",
    "#plt.ylim([])\n",
    "\n",
    "plt.tight_layout()\n",
    "plt.show()"
   ]
  },
  {
   "cell_type": "code",
   "execution_count": null,
   "metadata": {},
   "outputs": [],
   "source": [
    "# ELLIE CODE HERE - end"
   ]
  }
 ],
 "metadata": {
  "kernelspec": {
   "display_name": "Python 3",
   "language": "python",
   "name": "python3"
  },
  "language_info": {
   "codemirror_mode": {
    "name": "ipython",
    "version": 3
   },
   "file_extension": ".py",
   "mimetype": "text/x-python",
   "name": "python",
   "nbconvert_exporter": "python",
   "pygments_lexer": "ipython3",
   "version": "3.8.5"
  }
 },
 "nbformat": 4,
 "nbformat_minor": 4
}
