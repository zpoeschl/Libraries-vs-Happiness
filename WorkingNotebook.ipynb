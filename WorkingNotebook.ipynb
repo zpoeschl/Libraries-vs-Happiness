{
 "cells": [
  {
   "cell_type": "code",
   "execution_count": null,
   "metadata": {},
   "outputs": [],
   "source": [
    "import pandas as pd"
   ]
  },
  {
   "cell_type": "code",
   "execution_count": null,
   "metadata": {},
   "outputs": [],
   "source": [
    "csv_path_happiness = \"Resources/2017_happiness.csv\"\n",
    "csv_path_libraries = \"Resources/lmw_data_09_Feb_2021.csv\"\n",
    "\n",
    "happiness_df = pd.read_csv(csv_path_happiness)\n",
    "libraries_df = pd.read_csv(csv_path_libraries, encoding='latin-1')"
   ]
  },
  {
   "cell_type": "code",
   "execution_count": null,
   "metadata": {},
   "outputs": [],
   "source": [
    "happiness_df.head()"
   ]
  },
  {
   "cell_type": "code",
   "execution_count": null,
   "metadata": {},
   "outputs": [],
   "source": [
    "libraries_df = libraries_df.loc[(libraries_df[\"Data Year\"] == \"2017\"), :]\n",
    "libraries_df = libraries_df.dropna()\n",
    "\n",
    "#libraries_df.drop(libraries_df[libraries_df[\"Metric Data\"]==\"NaN\"].index, inplace=True)\n",
    "\n",
    "#library_df = libraries_df.drop(libraries_df[libraries_df[\"Metric Data\"] == \"NaN\"].index, inplace=False)\n",
    "\n",
    "#test_df = libraries_df.loc[libraries_df[\"Metric Data\"]==\"NaN\", :]\n",
    "libraries_df\n",
    "\n",
    "#test_df"
   ]
  },
  {
   "cell_type": "code",
   "execution_count": null,
   "metadata": {},
   "outputs": [],
   "source": [
    "combined_df = pd.merge(happiness_df, libraries_df, how='left', left_on=[\"Country\"], right_on=[\"Country or Area\"])\n",
    "combined_df"
   ]
  },
  {
   "cell_type": "code",
   "execution_count": null,
   "metadata": {},
   "outputs": [],
   "source": [
    "combined_df = combined_df.dropna()\n",
    "combined_df.head()"
   ]
  },
  {
   "cell_type": "code",
   "execution_count": null,
   "metadata": {},
   "outputs": [],
   "source": [
    "library_visits_df = libraries_df.loc[libraries_df[\"Metric\"]==\"Visits\", :]\n",
    "\n",
    "#library_visits_df.dropna()\n",
    "library_visits_df[\"Metric Data (INT)\"] = library_visits_df[\"Metric Data\"].astype(int)\n",
    "\n",
    "\n",
    "#library_visits_df.head(100)\n",
    "type_group_df = library_visits_df.groupby([\"Library Type\"]).sum()\n",
    "\n",
    "type_group_df"
   ]
  },
  {
   "cell_type": "code",
   "execution_count": null,
   "metadata": {},
   "outputs": [],
   "source": [
    "# PAM CODE HERE - start"
   ]
  },
  {
   "cell_type": "code",
   "execution_count": null,
   "metadata": {},
   "outputs": [],
   "source": []
  },
  {
   "cell_type": "code",
   "execution_count": null,
   "metadata": {},
   "outputs": [],
   "source": [
    "# PAM CODE HERE - end"
   ]
  },
  {
   "cell_type": "code",
   "execution_count": null,
   "metadata": {},
   "outputs": [],
   "source": [
    "# ZOE CODE HERE - start"
   ]
  },
  {
   "cell_type": "code",
   "execution_count": null,
   "metadata": {},
   "outputs": [],
   "source": [
    "## **********Move up to cell 1 once team can coordinate***********\n",
    "import matplotlib.pyplot as plt\n",
    "import numpy as np"
   ]
  },
  {
   "cell_type": "code",
   "execution_count": null,
   "metadata": {},
   "outputs": [],
   "source": [
    "## Overall happiness index 2017\n",
    "# Get top 20\n",
    "happiest_countries = happiness_df.loc[happiness_df[\"Happiness.Rank\"] <= 20]\n",
    "\n",
    "# set x axis and tick locations\n",
    "countries = happiest_countries[\"Country\"]\n",
    "happiness = happiest_countries[\"Happiness.Score\"]\n",
    "\n",
    "# Create chart\n",
    "plt.figure(figsize=(15,6))\n",
    "happy_bar = plt.bar(countries, happiness, align=\"center\")\n",
    "plt.xticks(rotation=\"vertical\")\n",
    "plt.title(\"20 happiest countries by rank, 2017\")\n",
    "\n",
    "# Add happiness score text to bars\n",
    "# for column in happy_bar:\n",
    "#     height = column.get_height()\n",
    "#     plt.text(column.get_x() + column.get_width()/2.0, height, '%d' % float(height), ha='center', va='bottom')\n",
    "\n",
    "plt.tight_layout()\n",
    "plt.show()"
   ]
  },
  {
   "cell_type": "code",
   "execution_count": null,
   "metadata": {},
   "outputs": [],
   "source": [
    "## Happiness index for countries which we also have library data for\n",
    "# Get top 20\n",
    "happiest_library_countries = combined_df.loc[combined_df[\"Happiness.Score\"] > 6.1]\n",
    "\n",
    "# set x axis and tick locations\n",
    "countries = happiest_library_countries[\"Country\"]\n",
    "happiness = happiest_library_countries[\"Happiness.Score\"]\n",
    "\n",
    "# Create chart\n",
    "plt.figure(figsize=(15,6))\n",
    "plt.bar(countries, happiness, align=\"center\")\n",
    "plt.xticks(rotation=\"vertical\")\n",
    "plt.title(\"20 happiest countries with library usage data by rank, 2017\")\n",
    "\n",
    "plt.tight_layout()\n",
    "plt.show()"
   ]
  },
  {
   "cell_type": "code",
   "execution_count": null,
   "metadata": {},
   "outputs": [],
   "source": [
    "# ZOE CODE HERE - end"
   ]
  },
  {
   "cell_type": "code",
   "execution_count": null,
   "metadata": {},
   "outputs": [],
   "source": [
    "# MALLORY CODE HERE - start"
   ]
  },
  {
   "cell_type": "code",
   "execution_count": null,
   "metadata": {},
   "outputs": [],
   "source": []
  },
  {
   "cell_type": "code",
   "execution_count": null,
   "metadata": {},
   "outputs": [],
   "source": [
    "# MALLORY CODE HERE - end"
   ]
  },
  {
   "cell_type": "code",
   "execution_count": null,
   "metadata": {},
   "outputs": [],
   "source": [
    "# ELLIE CODE HERE - start"
   ]
  },
  {
   "cell_type": "code",
   "execution_count": null,
   "metadata": {},
   "outputs": [],
   "source": []
  },
  {
   "cell_type": "code",
   "execution_count": null,
   "metadata": {},
   "outputs": [],
   "source": [
    "# ELLIE CODE HERE - end"
   ]
  }
 ],
 "metadata": {
  "kernelspec": {
   "display_name": "Python 3",
   "language": "python",
   "name": "python3"
  },
  "language_info": {
   "codemirror_mode": {
    "name": "ipython",
    "version": 3
   },
   "file_extension": ".py",
   "mimetype": "text/x-python",
   "name": "python",
   "nbconvert_exporter": "python",
   "pygments_lexer": "ipython3",
   "version": "3.6.10"
  }
 },
 "nbformat": 4,
 "nbformat_minor": 4
}
